{
 "cells": [
  {
   "cell_type": "code",
   "execution_count": null,
   "id": "2ce3f1e6",
   "metadata": {},
   "outputs": [],
   "source": [
    "import geopandas as gpd\n",
    "import os\n",
    "from pathlib import Path"
   ]
  },
  {
   "cell_type": "code",
   "execution_count": null,
   "id": "5e14b3d9",
   "metadata": {},
   "outputs": [],
   "source": [
    "    data_path = script_dir / \"../data/interim/sections_2025.geojson\"\n",
    "        print(f\"Input file: {data_path}\")\n",
    "   if not data_path.exists():\n",
    "        print(f\"ERROR: Input file not found at {data_path}\")\n",
    "        return"
   ]
  },
  {
   "cell_type": "code",
   "execution_count": null,
   "id": "8163318f",
   "metadata": {},
   "outputs": [],
   "source": [
    "    print(\"\\n1. Loading GeoJSON...\")\n",
    "    try:\n",
    "        gdf = gpd.read_file(str(data_path))\n",
    "        print(f\"   ✓ Loaded {len(gdf)} census sections\")\n",
    "        print(f\"   ✓ CRS: {gdf.crs}\")\n",
    "    except Exception as e:\n",
    "        print(f\"ERROR loading GeoJSON: {e}\")\n",
    "        print(\"   Make sure to run scripts/convert_to_geojson.py first to create the interim file.\")\n",
    "        return"
   ]
  }
 ],
 "metadata": {
  "language_info": {
   "name": "python"
  }
 },
 "nbformat": 4,
 "nbformat_minor": 5
}
